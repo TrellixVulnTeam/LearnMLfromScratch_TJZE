{
 "cells": [
  {
   "cell_type": "markdown",
   "metadata": {},
   "source": [
    "# Eager Execution 使用入门\n",
    "\n",
    "本教程介绍如何使用机器学习按品种对鸢尾花进行分类。\n",
    "\n",
    "- 启用 Eager Execution 开发环境，\n",
    "- 使用 Datasets API 导入数据，\n",
    "- TensorFlow 的 Keras API 构建模型和层。\n",
    "\n",
    "本教程介绍了这些 API，并采用了与许多其他 TensorFlow 程序相似的结构：\n",
    "\n",
    "1. 导入和解析数据集。\n",
    "2. 选择模型类型。\n",
    "3. 训练模型。\n",
    "4. 评估模型的效果。\n",
    "5. 使用经过训练的模型进行预测。\n",
    "\n",
    "\n",
    "设置程序\n",
    "\n",
    "```\n",
    "pip install -q --upgrade tensorflow\n",
    "```\n",
    "\n",
    "## 配置导入和 Eager Execution\n",
    "\n",
    "导入所需的 Python 模块（包括 TensorFlow），然后针对此程序启用 Eager Execution。借助 Eager Execution，TensorFlow 会立即评估各项操作，并返回具体的值，而不是创建稍后执行的计算图。如果您习惯使用 REPL 或 python 交互控制台，对于 Eager Execution 您会用起来得心应手。\n",
    "\n",
    "Eager Execution 一旦启用，便无法在同一程序中停用。"
   ]
  },
  {
   "cell_type": "code",
   "execution_count": 2,
   "metadata": {},
   "outputs": [
    {
     "name": "stdout",
     "output_type": "stream",
     "text": [
      "TensorFlow version: 1.12.0\n",
      "Eager execution: True\n"
     ]
    }
   ],
   "source": [
    "from __future__ import absolute_import,division,print_function\n",
    "\n",
    "import os\n",
    "import matplotlib.pyplot as plt\n",
    "\n",
    "import tensorflow as tf\n",
    "import tensorflow.contrib.eager as tfe\n",
    "\n",
    "tfe.enable_eager_execution()\n",
    "\n",
    "print(\"TensorFlow version: {}\".format(tf.VERSION))\n",
    "print(\"Eager execution: {}\".format(tf.executing_eagerly()))\n"
   ]
  },
  {
   "cell_type": "markdown",
   "metadata": {},
   "source": [
    "## 鸢尾花分类问题\n",
    "\n",
    "想象一下，您是一名植物学家，正在寻找一种能够对所发现的每株鸢尾花进行自动归类的方法。机器学习可提供多种从统计学上分类花卉的算法。例如，一个复杂的机器学习程序可以根据照片对花卉进行分类。我们的要求并不高 - 我们将根据鸢尾花花萼和花瓣的长度和宽度对其进行分类。\n",
    "\n",
    "鸢尾属约有 300 个种，但我们的程序将仅对下列三个种进行分类：\n",
    "\n",
    "- 山鸢尾\n",
    "- 维吉尼亚鸢尾\n",
    "- 变色鸢尾\n",
    "\n",
    "![鸢尾](https://www.tensorflow.org/images/iris_three_species.jpg)\n",
    "\n",
    "\n",
    "\n",
    "幸运的是，有人已经创建了一个包含 120 株鸢尾花的数据集（其中有花萼和花瓣的测量值）。这是一个在入门级机器学习分类问题中经常使用的经典数据集。\n",
    "\n",
    "## 导入和解析训练数据集\n",
    "\n",
    "我们需要下载数据集文件，并将其转换为可供此 Python 程序使用的结构。\n",
    "\n",
    "### 下载数据集\n",
    "使用 tf.keras.utils.get_file 函数下载训练数据集文件。该函数会返回下载文件的文件路径。"
   ]
  },
  {
   "cell_type": "code",
   "execution_count": 3,
   "metadata": {},
   "outputs": [
    {
     "name": "stdout",
     "output_type": "stream",
     "text": [
      "Downloading data from http://download.tensorflow.org/data/iris_training.csv\n",
      "8192/2194 [================================================================================================================] - 0s 0us/step\n",
      "Local copy of the dataset file: C:\\Users\\Administrator\\.keras\\datasets\\iris_training.csv\n"
     ]
    }
   ],
   "source": [
    "train_dataset_url = \"http://download.tensorflow.org/data/iris_training.csv\"\n",
    "\n",
    "train_dataset_fp = tf.keras.utils.get_file(fname=os.path.basename(train_dataset_url),\n",
    "                                          origin=train_dataset_url)\n",
    "\n",
    "print(\"Local copy of the dataset file: {}\".format(train_dataset_fp))"
   ]
  },
  {
   "cell_type": "markdown",
   "metadata": {},
   "source": [
    "### 检查数据\n",
    "\n",
    "数据集 iris_training.csv 是一个纯文本文件，其中存储了逗号分隔值 (CSV) 格式的表格式数据。使用 head -n5 命令查看前 5 个条目：\n",
    "```\n",
    "!head -n5 {train_dataset_fp}\n",
    "```\n",
    "\n",
    "```\n",
    "120,4,setosa,versicolor,virginica\n",
    "6.4,2.8,5.6,2.2,2\n",
    "5.0,2.3,3.3,1.0,1\n",
    "4.9,2.5,4.5,1.7,2\n",
    "4.9,3.1,1.5,0.1,0\n",
    "```\n",
    "\n",
    "我们可以从该数据集视图中看到以下信息：\n",
    "\n",
    "1. 第一行是标题，其中包含数据集信息。\n",
    "    - 共有 120 个样本。每个样本都有四个特征和一个标签名称，标签名称有三种可能。\n",
    "2. 后面的行是数据记录，每个样本各占一行，其中：\n",
    "    - 前四个字段是特征：即样本的特点。在此数据集中，这些字段存储的是代表花卉测量值的浮点数。\n",
    "    - 最后一列是标签：即我们想要预测的值。对于此数据集，该值为 0、1 或 2 中的某个整数值（每个值分别对应一个花卉名称）。\n",
    "\n",
    "每个标签都分别与一个字符串名称（例如“setosa”）相关联，但机器学习通常依赖于数字值。标签编号会映射到一个指定的名称表示，例如：\n",
    "\n",
    "- 0：山鸢尾\n",
    "- 1：变色鸢尾\n",
    "- 2：维吉尼亚鸢尾\n",
    "\n",
    "\n",
    "### 解析数据集\n",
    "\n",
    "由于我们的数据集是 CSV 格式的文本文件，因此我们会将特征和标签值解析为 Python 模型能够使用的格式。系统会将文件中的每一行传递给 parse_csv 函数，该函数会获取前四个特征字段，并将它们合并为一个张量。然后，系统会将最后一个字段解析为标签。该函数会返回 features 和 label 这两个张量：\n"
   ]
  },
  {
   "cell_type": "code",
   "execution_count": 21,
   "metadata": {},
   "outputs": [],
   "source": [
    "def parse_csv(line):\n",
    "    example_defaults = [[0.],[0.],[0.],[0.],[0]]# set field types\n",
    "    parsed_line = tf.decode_csv(line,example_defaults)\n",
    "    #first 4 field are features,combine into single tensor\n",
    "    features = tf.reshape(parsed_line[:-1],shape=(4,))\n",
    "    # last field is the label\n",
    "    label = tf.reshape(parsed_line[-1],shape=())\n",
    "    return features,label"
   ]
  },
  {
   "cell_type": "markdown",
   "metadata": {},
   "source": [
    "### 创建训练 tf.data.Dataset\n",
    "\n",
    "TensorFlow 的 Dataset API 可处理在向模型馈送数据时遇到的许多常见情况。这是一种高阶 API，用于读取数据并将其转换为可供训练使用的格式。如需了解详情，请参阅数据集快速入门指南。\n",
    "\n",
    "此程序使用 tf.data.TextLineDataset 加载 CSV 格式的文本文件，并且用 parse_csv 函数解析该文件。tf.data.Dataset 将输入管道表示为一组元素以及作用于这些元素的一系列转换。转换方法会链接在一起或按顺序调用，只需确保保留对返回的 Dataset 对象的引用即可。\n",
    "\n",
    "如果样本是随机排列的，则训练效果最好。使用 tf.data.Dataset.shuffle 将条目随机化，并将 buffer_size 设为大于样本数（本示例中为 120）的值。为了更快速地训练模型，将数据集的批次大小设为一次训练 32 个样本。"
   ]
  },
  {
   "cell_type": "code",
   "execution_count": 22,
   "metadata": {},
   "outputs": [
    {
     "name": "stdout",
     "output_type": "stream",
     "text": [
      "example features:  tf.Tensor([4.6 3.2 1.4 0.2], shape=(4,), dtype=float32)\n",
      "example label:  tf.Tensor(0, shape=(), dtype=int32)\n"
     ]
    }
   ],
   "source": [
    "train_dataset = tf.data.TextLineDataset(train_dataset_fp)\n",
    "# skip the first header row\n",
    "train_dataset = train_dataset.skip(1)\n",
    "# parse each row\n",
    "train_dataset = train_dataset.map(parse_csv)\n",
    "# randomize\n",
    "train_dataset = train_dataset.shuffle(buffer_size=1000)\n",
    "train_dataset = train_dataset.batch(32)\n",
    "\n",
    "# View a single example entry from a batch\n",
    "features,label = iter(train_dataset).next()\n",
    "print(\"example features: \",features[0])\n",
    "print(\"example label: \",label[0])"
   ]
  },
  {
   "cell_type": "markdown",
   "metadata": {},
   "source": [
    "## 选择模型类型\n",
    "\n",
    "### 为何要使用模型\n",
    "\n",
    "模型是指特征与标签之间的关系。对于鸢尾花分类问题，模型定义了花萼和花瓣测量值与预测的鸢尾花品种之间的关系。一些简单的模型可以用几行代数进行描述，但复杂的机器学习模型拥有大量难以汇总的参数。\n",
    "\n",
    "您能否在不使用机器学习的情况下确定四个特征与鸢尾花品种之间的关系？也就是说，您能否使用传统编程技巧（例如大量条件语句）创建模型？也许能，前提是您反复分析该数据集，并最终确定花瓣和花萼测量值与特定品种的关系。对于更复杂的数据集来说，这会变得非常困难，或许根本就做不到。一个好的机器学习方法可为您确定模型。如果您将足够多的代表性样本馈送到正确类型的机器学习模型中，该程序便会为您找出相应的关系。\n",
    "\n",
    "### 选择模型\n",
    "\n",
    "我们需要选择要进行训练的模型类型。模型具有许多类型，挑选合适的类型需要一定的经验。本教程使用神经网络来解决鸢尾花分类问题。 神经网络可以发现特征与标签之间的复杂关系。神经网络是一个高度结构化的图，其中包含一个或多个隐藏层。每个隐藏层都包含一个或多个神经元。神经网络有多种类别，该程序使用的是密集型神经网络，也称为全连接神经网络：一个层中的神经元将从上一层中的每个神经元获取输入连接。例如，图 2 显示了一个密集型神经网络，其中包含 1 个输入层、2 个隐藏层以及 1 个输出层：\n",
    "\n",
    "![包含特征、隐藏层和预测的神经网络](https://www.tensorflow.org/images/custom_estimators/full_network.png)\n",
    "\n",
    "当图 2 中的模型经过训练并获得无标签样本后，它便会产生 3 个预测结果：相应鸢尾花属于指定品种的可能性。这种预测称为推理。对于该示例，输出预测结果的总和是 1.0。在图 2 中，该预测结果分解如下：山鸢尾为 0.03，变色鸢尾为 0.95，维吉尼亚鸢尾为 0.02。这意味着该模型预测某个无标签的鸢尾花样本是变色鸢尾的概率为 95％。\n",
    "\n",
    "### 使用 Keras 创建模型\n",
    "\n",
    "TensorFlow [tf.keras](https://www.tensorflow.org/api_docs/python/tf/keras) API 是创建模型和层的首选方式。这样一来，您就可以轻松地构建模型并进行试验，同时由 Keras 处理将所有内容连接在一起的复杂任务。如需了解详情，请参阅 [Keras](https://keras.io/) 文档。\n",
    "\n",
    "[tf.keras.Sequential](https://www.tensorflow.org/api_docs/python/tf/keras/Sequential) 模型是层的线性层叠。该模型的构造函数会接受一系列层实例；在本示例中，接受的是 2 个密集层（分别包含 10 个节点）以及 1 个输出层（包含 3 个代表标签预测的节点）。第一个层的 input_shape 参数对应该数据集中的特征数量，它是一项必需参数。"
   ]
  },
  {
   "cell_type": "code",
   "execution_count": 23,
   "metadata": {},
   "outputs": [],
   "source": [
    "model = tf.keras.Sequential([\n",
    "    # input shape required\n",
    "    tf.keras.layers.Dense(10,activation='relu',input_shape=(4,)),\n",
    "    tf.keras.layers.Dense(10,activation='relu'),\n",
    "    tf.keras.layers.Dense(3)\n",
    "])"
   ]
  },
  {
   "cell_type": "markdown",
   "metadata": {},
   "source": [
    "激活函数可决定单个神经元向下一层的输出。大体上与大脑神经元的连接方式相同。激活函数有很多，但隐藏层通常使用 ReLU。\n",
    "\n",
    "隐藏层和神经元的理想数量取决于问题和数据集。与机器学习的多个方面一样，选择最佳的神经网络形状需要一定的知识水平和实验基础。一般来说，增加隐藏层和神经元的数量通常会产生更强大的模型，而这需要更多数据才能有效地进行训练。\n",
    "\n",
    "## 训练模型\n",
    "\n",
    "训练是一个机器学习阶段，在此阶段中，模型会逐渐得到优化，也就是说，模型会了解数据集。目标是对训练数据集的结构获得足够的了解，以便预测未见过的数据。如果您从训练数据集中获得了过多的信息，预测便会仅适用于模型见过的数据，并且无法进行泛化。此问题称为过拟合，好比将答案死记硬背下来，而不去理解问题的解决方式。\n",
    "\n",
    "鸢尾花分类问题是监督式机器学习的一个示例：模型通过包含标签的样本加以训练。在非监督式机器学习中，样本不包含标签。相反，模型通常会在特征中发现一些规律。\n",
    "\n",
    "### 定义损失和梯度函数\n",
    "\n",
    "在训练阶段和评估阶段，我们都需要计算模型的损失。这样可以衡量模型的预测结果与预期标签有多大偏差，也就是说，模型的效果有多差。我们希望尽可能减小或优化这个值。\n",
    "\n",
    "我们的模型会使用 tf.losses.sparse_softmax_cross_entropy 函数计算其损失，此函数会接受模型的预测结果和预期标签。随着预测结果不断变差，返回的损失值会越来越大。\n"
   ]
  },
  {
   "cell_type": "code",
   "execution_count": 24,
   "metadata": {},
   "outputs": [],
   "source": [
    "def loss(model,x,y):\n",
    "    y_ = model(x)\n",
    "    return tf.losses.sparse_softmax_cross_entropy(labels=y,logits=y_)\n",
    "\n",
    "def grad(model,inputs,targets):\n",
    "    with tf.GradientTape() as tape:\n",
    "        loss_value = loss(model,inputs,targets)\n",
    "    return tape.gradient(loss_value,model.variables)"
   ]
  },
  {
   "cell_type": "markdown",
   "metadata": {},
   "source": [
    "grad 函数使用 loss 函数和 tf.GradientTape 来记录计算梯度（用于优化模型）的操作。有关更多相关示例，请参阅 [Eager Execution 指南](https://www.tensorflow.org/programmers_guide/eager)。"
   ]
  },
  {
   "cell_type": "markdown",
   "metadata": {},
   "source": [
    "### 创建优化器\n",
    "\n",
    "优化器会将计算出的梯度应用于模型的变量，以尽可能减小 loss 函数。您可以想象有一个曲面（见图 3），我们希望通过到处走动找到该曲面的最低点。梯度指向最高速上升的方向，因此我们将沿相反的方向向下移动。通过以迭代方式计算每个批次的损失和梯度，我们将在训练过程中调整模型。模型会逐渐找到权重和偏差的最佳组合，从而将损失降至最低。损失越低，模型的预测效果就越好。\n",
    "\n",
    "![优化算法在三维空间中随时间推移而变化的可视化呈现图](https://tensorflow.org/images/opt1.gif)\n",
    "\n",
    "TensorFlow 拥有许多可用于训练的[优化算法](https://www.tensorflow.org/api_guides/python/train)。此模型使用的是 [tf.train.GradientDescentOptimizer](https://www.tensorflow.org/api_docs/python/tf/train/GradientDescentOptimizer)，它可以实现随机梯度下降法 (SGD)。learning_rate 用于设置每次迭代（向下行走）的步长。这是一个超参数，您通常需要调整此参数以获得更好的结果。"
   ]
  },
  {
   "cell_type": "code",
   "execution_count": 25,
   "metadata": {},
   "outputs": [],
   "source": [
    "optimizer = tf.train.GradientDescentOptimizer(learning_rate=0.01)"
   ]
  },
  {
   "cell_type": "markdown",
   "metadata": {},
   "source": [
    "### 训练循环\n",
    "\n",
    "一切准备就绪后，就可以开始训练模型了！训练循环会将数据集样本馈送到模型中，以帮助模型做出更好的预测。以下代码块可设置这些训练步骤：\n",
    "\n",
    "1. 迭代每个周期。通过一次数据集即为一个周期。\n",
    "2. 在一个周期中，遍历训练 Dataset 中的每个样本，并获取样本的特征 (x) 和标签 (y)。\n",
    "3. 根据样本的特征进行预测，并比较预测结果和标签。衡量预测结果的不准确性，并使用所得的值计算模型的损失和梯度。\n",
    "4. 使用 optimizer 更新模型的变量。\n",
    "5. 跟踪一些统计信息以进行可视化。\n",
    "6. 对每个周期重复执行以上步骤。\n",
    "\n",
    "num_epochs 变量是遍历数据集集合的次数。与直觉恰恰相反的是，训练模型的时间越长，并不能保证模型就越好。num_epochs 是一个可以调整的超参数。选择正确的次数通常需要一定的经验和实验基础。"
   ]
  },
  {
   "cell_type": "code",
   "execution_count": 28,
   "metadata": {},
   "outputs": [
    {
     "name": "stdout",
     "output_type": "stream",
     "text": [
      "Epoch 000: Loss: 0.097, Accuracy:97.500%\n",
      "Epoch 050: Loss: 0.073, Accuracy:98.333%\n",
      "Epoch 100: Loss: 0.082, Accuracy:98.333%\n",
      "Epoch 150: Loss: 0.077, Accuracy:97.500%\n",
      "Epoch 200: Loss: 0.062, Accuracy:98.333%\n"
     ]
    }
   ],
   "source": [
    "## Note: Rerunning this cell uses the same model variables\n",
    "\n",
    "# keep results for plotting\n",
    "train_loss_results = []\n",
    "train_accuracy_results = []\n",
    "\n",
    "num_epochs = 201\n",
    "\n",
    "for epoch in range(num_epochs):\n",
    "    epoch_loss_avg = tfe.metrics.Mean()\n",
    "    epoch_accuracy = tfe.metrics.Accuracy()\n",
    "\n",
    "    # training loop - using batches of 32\n",
    "    for x,y in train_dataset:\n",
    "        # optimize the model\n",
    "        grads = grad(model,x,y)\n",
    "        optimizer.apply_gradients(zip(grads,model.variables),\n",
    "                                 global_step=tf.train.get_or_create_global_step())\n",
    "        # track progress\n",
    "        epoch_loss_avg(loss(model,x,y))#add current batch loss\n",
    "        # compare predicted label to actual label\n",
    "        epoch_accuracy(tf.argmax(model(x),axis=1,output_type=tf.int32),y)\n",
    "    \n",
    "    # end epoch\n",
    "    train_loss_results.append(epoch_loss_avg.result())\n",
    "    train_accuracy_results.append(epoch_accuracy.result())\n",
    "\n",
    "    if epoch % 50 == 0:\n",
    "        print(\"Epoch {:03d}: Loss: {:.3f}, Accuracy:{:.3%}\".format(epoch,\n",
    "                                                              epoch_loss_avg.result(),\n",
    "                                                              epoch_accuracy.result()))"
   ]
  },
  {
   "cell_type": "markdown",
   "metadata": {},
   "source": [
    "### 可视化损失函数随时间推移而变化的情况\n",
    "\n",
    "虽然输出模型的训练过程有帮助，但观看这一过程往往更有帮助。TensorBoard 是与 TensorFlow 封装在一起的出色可视化工具，不过我们可以使用 mathplotlib 模块创建基本图表。\n",
    "\n",
    "解读这些图表需要一定的经验，不过您确实希望看到损失下降且准确率上升。\n",
    "\n"
   ]
  },
  {
   "cell_type": "code",
   "execution_count": 30,
   "metadata": {},
   "outputs": [
    {
     "data": {
      "image/png": "[encoded data removed]",
      "text/plain": [
       "<Figure size 864x576 with 2 Axes>"
      ]
     },
     "metadata": {
      "needs_background": "light"
     },
     "output_type": "display_data"
    }
   ],
   "source": [
    "fig,axes = plt.subplots(2,sharex=True,figsize=(12,8))\n",
    "fig.suptitle('Training Metrics')\n",
    "\n",
    "axes[0].set_ylabel(\"Loss\",fontsize=14)\n",
    "axes[0].plot(train_loss_results)\n",
    "\n",
    "axes[1].set_ylabel(\"Accuracy\",fontsize=14)\n",
    "axes[1].set_xlabel(\"Epoch\",fontsize=14)\n",
    "axes[1].plot(train_accuracy_results)\n",
    "\n",
    "plt.show()"
   ]
  },
  {
   "cell_type": "markdown",
   "metadata": {},
   "source": [
    "## 评估模型的效果\n",
    "\n",
    "模型已经过训练，现在我们可以获取一些关于其效果的统计信息了。\n",
    "\n",
    "评估指的是确定模型做出预测的效果。要确定模型在鸢尾花分类方面的效果，请将一些花萼和花瓣测量值传递给模型，并要求模型预测它们所代表的鸢尾花品种。然后，将模型的预测结果与实际标签进行比较。例如，如果模型对一半输入样本的品种预测正确，则准确率为 0.5。图 4 显示的是一个效果更好一些的模型，该模型做出 5 次预测，其中有 4 次正确，准确率为 80%：\n",
    "\n",
    "### 设置测试数据集\n",
    "\n",
    "评估模型与训练模型相似。最大的区别在于，样本来自一个单独的测试集，而不是训练集。为了公正地评估模型的效果，用于评估模型的样本一定不能与用于训练模型的样本相同。\n",
    "\n",
    "测试 Dataset 的设置与训练 Dataset 的设置相似。下载 CSV 文本文件并解析相应的值，然后对数据稍加随机化处理：\n"
   ]
  },
  {
   "cell_type": "code",
   "execution_count": 31,
   "metadata": {},
   "outputs": [
    {
     "name": "stdout",
     "output_type": "stream",
     "text": [
      "Downloading data from http://download.tensorflow.org/data/iris_test.csv\n",
      "8192/573 [============================================================================================================================================================================================================================================================================================================================================================================================================================================] - 0s 0us/step\n"
     ]
    }
   ],
   "source": [
    "test_url = \"http://download.tensorflow.org/data/iris_test.csv\"\n",
    "\n",
    "test_fp = tf.keras.utils.get_file(fname=os.path.basename(test_url),\n",
    "                                 origin=test_url)\n",
    "test_dataset = tf.data.TextLineDataset(test_fp)\n",
    "# skip header row\n",
    "test_dataset = test_dataset.skip(1)\n",
    "# parse each row with the function created earlier\n",
    "test_dataset = test_dataset.map(parse_csv)\n",
    "# randomize\n",
    "test_dataset = test_dataset.shuffle(1000)\n",
    "# use the same batch size as the training set\n",
    "test_dataset = test_dataset.batch(32)"
   ]
  },
  {
   "cell_type": "markdown",
   "metadata": {},
   "source": [
    "### 根据测试数据集评估模型\n",
    "\n",
    "与训练阶段不同，模型仅评估测试数据的一个周期。在以下代码单元格中，我们会遍历测试集中的每个样本，然后将模型的预测与实际标签进行比较。这是为了衡量模型在整个测试集中的准确率。\n"
   ]
  },
  {
   "cell_type": "code",
   "execution_count": 33,
   "metadata": {},
   "outputs": [
    {
     "name": "stdout",
     "output_type": "stream",
     "text": [
      "Test set accuracy: 96.666667%\n"
     ]
    }
   ],
   "source": [
    "test_accuracy = tfe.metrics.Accuracy()\n",
    "\n",
    "for (x,y) in test_dataset:\n",
    "    prediction = tf.argmax(model(x),axis=1,output_type=tf.int32)\n",
    "    test_accuracy(prediction,y)\n",
    "\n",
    "print(\"Test set accuracy: {:3%}\".format(test_accuracy.result()))"
   ]
  },
  {
   "cell_type": "markdown",
   "metadata": {},
   "source": [
    "## 使用经过训练的模型进行预测\n",
    "\n",
    "我们已经训练了一个模型并“证明”它是有效的，但在对鸢尾花品种进行分类方面，这还不够。现在，我们使用经过训练的模型对无标签样本（即包含特征但不包含标签的样本）进行一些预测。\n",
    "\n",
    "在现实生活中，无标签样本可能来自很多不同的来源，其中包括应用、CSV 文件和数据 Feed。暂时我们将手动提供三个无标签样本以预测其标签。回想一下，标签编号会映射到一个指定的名称表示：\n",
    "\n",
    "- 0：山鸢尾\n",
    "- 1：变色鸢尾\n",
    "- 2：维吉尼亚鸢尾"
   ]
  },
  {
   "cell_type": "code",
   "execution_count": 36,
   "metadata": {},
   "outputs": [
    {
     "name": "stdout",
     "output_type": "stream",
     "text": [
      "Example 0 prediction: Iris setosa\n",
      "Example 1 prediction: Iris versicolor\n",
      "Example 2 prediction: Iris virginica\n"
     ]
    }
   ],
   "source": [
    "class_ids = [\"Iris setosa\",\"Iris versicolor\",\"Iris virginica\"]\n",
    "\n",
    "predict_dataset = tf.convert_to_tensor([\n",
    "    [5.1, 3.3, 1.7, 0.5,],\n",
    "    [5.9, 3.0, 4.2, 1.5,],\n",
    "    [6.9, 3.1, 5.4, 2.1],\n",
    "])\n",
    "\n",
    "predictions = model(predict_dataset)\n",
    "\n",
    "for i,logits in enumerate(predictions):\n",
    "    class_idx = tf.argmax(logits).numpy()\n",
    "    name = class_ids[class_idx]\n",
    "    print(\"Example {} prediction: {}\".format(i,name))\n",
    "    "
   ]
  },
  {
   "cell_type": "code",
   "execution_count": null,
   "metadata": {},
   "outputs": [],
   "source": []
  }
 ],
 "metadata": {
  "kernelspec": {
   "display_name": "Python 3",
   "language": "python",
   "name": "python3"
  },
  "language_info": {
   "codemirror_mode": {
    "name": "ipython",
    "version": 3
   },
   "file_extension": ".py",
   "mimetype": "text/x-python",
   "name": "python",
   "nbconvert_exporter": "python",
   "pygments_lexer": "ipython3",
   "version": "3.5.6"
  }
 },
 "nbformat": 4,
 "nbformat_minor": 2
}
