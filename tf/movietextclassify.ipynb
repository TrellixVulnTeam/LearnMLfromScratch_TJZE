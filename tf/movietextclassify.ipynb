{
 "cells": [
  {
   "cell_type": "markdown",
   "metadata": {},
   "source": [
    "# 影评文本分类\n",
    "\n",
    "此笔记本会将文本形式的影评分为“正面”或“负面”影评。这是一个二元分类（又称为两类分类）的示例，也是一种重要且广泛适用的机器学习问题。\n",
    "\n",
    "我们将使用 IMDB 数据集，其中包含来自互联网电影数据库的 50000 条影评文本。我们将这些影评拆分为训练集（25000 条影评）和测试集（25000 条影评）。训练集和测试集之间达成了平衡，意味着它们包含相同数量的正面和负面影评。\n",
    "\n",
    "此笔记本使用的是 tf.keras，它是一种用于在 TensorFlow 中构建和训练模型的高阶 API。有关使用 tf.keras 的更高级文本分类教程，请参阅 MLCC 文本分类指南。\n"
   ]
  },
  {
   "cell_type": "code",
   "execution_count": 1,
   "metadata": {},
   "outputs": [
    {
     "name": "stdout",
     "output_type": "stream",
     "text": [
      "1.12.0\n"
     ]
    }
   ],
   "source": [
    "import tensorflow as tf\n",
    "from tensorflow import keras\n",
    "\n",
    "import numpy as np\n",
    "\n",
    "print(tf.__version__)"
   ]
  },
  {
   "cell_type": "markdown",
   "metadata": {},
   "source": [
    "## 下载IMDB数据集\n",
    "\n",
    "TensorFlow 中包含 IMDB 数据集。我们已对该数据集进行了预处理，将影评（字词序列）转换为整数序列，其中每个整数表示字典中的一个特定字词。\n",
    "\n",
    "以下代码会将 IMDB 数据集下载到您的计算机上（如果您已下载该数据集，则会使用缓存副本）："
   ]
  },
  {
   "cell_type": "code",
   "execution_count": 2,
   "metadata": {},
   "outputs": [
    {
     "name": "stdout",
     "output_type": "stream",
     "text": [
      "Downloading data from https://storage.googleapis.com/tensorflow/tf-keras-datasets/imdb.npz\n",
      "17465344/17464789 [==============================] - 4s 0us/step\n"
     ]
    }
   ],
   "source": [
    "imdb = keras.datasets.imdb\n",
    "(train_data,train_labels),(test_data,test_labels) = imdb.load_data(num_words=10000)\n"
   ]
  },
  {
   "cell_type": "markdown",
   "metadata": {},
   "source": [
    "参数 num_words=10000 会保留训练数据中出现频次在前 10000 位的字词。为确保数据规模处于可管理的水平，罕见字词将被舍弃。\n",
    "\n",
    "## 探索数据\n",
    "\n",
    "我们花点时间来了解一下数据的格式。该数据集已经过预处理：每个样本都是一个整数数组，表示影评中的字词。每个标签都是整数值 0 或 1，其中 0 表示负面影评，1 表示正面影评。\n"
   ]
  },
  {
   "cell_type": "code",
   "execution_count": 5,
   "metadata": {},
   "outputs": [
    {
     "name": "stdout",
     "output_type": "stream",
     "text": [
      "Training entries: 25000,labels:25000\n"
     ]
    }
   ],
   "source": [
    "print(\"Training entries: {},labels:{}\".format(len(train_data),len(train_labels)))"
   ]
  },
  {
   "cell_type": "markdown",
   "metadata": {},
   "source": [
    "影评文本已转换为整数，其中每个整数都表示字典中的一个特定字词。第一条影评如下所示："
   ]
  },
  {
   "cell_type": "code",
   "execution_count": 6,
   "metadata": {},
   "outputs": [
    {
     "name": "stdout",
     "output_type": "stream",
     "text": [
      "[1, 14, 22, 16, 43, 530, 973, 1622, 1385, 65, 458, 4468, 66, 3941, 4, 173, 36, 256, 5, 25, 100, 43, 838, 112, 50, 670, 2, 9, 35, 480, 284, 5, 150, 4, 172, 112, 167, 2, 336, 385, 39, 4, 172, 4536, 1111, 17, 546, 38, 13, 447, 4, 192, 50, 16, 6, 147, 2025, 19, 14, 22, 4, 1920, 4613, 469, 4, 22, 71, 87, 12, 16, 43, 530, 38, 76, 15, 13, 1247, 4, 22, 17, 515, 17, 12, 16, 626, 18, 2, 5, 62, 386, 12, 8, 316, 8, 106, 5, 4, 2223, 5244, 16, 480, 66, 3785, 33, 4, 130, 12, 16, 38, 619, 5, 25, 124, 51, 36, 135, 48, 25, 1415, 33, 6, 22, 12, 215, 28, 77, 52, 5, 14, 407, 16, 82, 2, 8, 4, 107, 117, 5952, 15, 256, 4, 2, 7, 3766, 5, 723, 36, 71, 43, 530, 476, 26, 400, 317, 46, 7, 4, 2, 1029, 13, 104, 88, 4, 381, 15, 297, 98, 32, 2071, 56, 26, 141, 6, 194, 7486, 18, 4, 226, 22, 21, 134, 476, 26, 480, 5, 144, 30, 5535, 18, 51, 36, 28, 224, 92, 25, 104, 4, 226, 65, 16, 38, 1334, 88, 12, 16, 283, 5, 16, 4472, 113, 103, 32, 15, 16, 5345, 19, 178, 32]\n"
     ]
    }
   ],
   "source": [
    "print(train_data[0])"
   ]
  },
  {
   "cell_type": "markdown",
   "metadata": {},
   "source": [
    "影评的长度可能会有所不同。以下代码显示了第一条和第二条影评中的字词数。由于神经网络的输入必须具有相同长度，因此我们稍后需要解决此问题。"
   ]
  },
  {
   "cell_type": "code",
   "execution_count": 7,
   "metadata": {},
   "outputs": [
    {
     "data": {
      "text/plain": [
       "(218, 189)"
      ]
     },
     "execution_count": 7,
     "metadata": {},
     "output_type": "execute_result"
    }
   ],
   "source": [
    "len(train_data[0]),len(train_data[1])"
   ]
  },
  {
   "cell_type": "markdown",
   "metadata": {},
   "source": [
    "### 将整数转换回字词\n",
    "\n",
    "了解如何将整数转换回文本可能很有用。在以下代码中，我们将创建一个辅助函数来查询包含整数到字符串映射的字典对象：\n",
    "\n"
   ]
  },
  {
   "cell_type": "code",
   "execution_count": 8,
   "metadata": {},
   "outputs": [
    {
     "name": "stdout",
     "output_type": "stream",
     "text": [
      "Downloading data from https://storage.googleapis.com/tensorflow/tf-keras-datasets/imdb_word_index.json\n",
      "1646592/1641221 [==============================] - 1s 1us/step\n"
     ]
    }
   ],
   "source": [
    "# a dictionary mapping words to an integer index\n",
    "word_index = imdb.get_word_index()\n",
    "\n",
    "# The first indices are reserved\n",
    "word_index = {k:(v+3) for k,v in word_index.items()}\n",
    "word_index['<PAD>'] = 0\n",
    "word_index['<START>'] = 1\n",
    "word_index['<UNK>'] = 2 # unknow\n",
    "word_index['<UNUSED>'] = 3\n",
    "\n",
    "reverse_word_index = dict([(value,key) for (key,value) in word_index.items()])\n",
    "\n",
    "def decode_review(text):\n",
    "    return ' '.join([reverse_word_index.get(i,'?') for i in text])"
   ]
  },
  {
   "cell_type": "code",
   "execution_count": 9,
   "metadata": {},
   "outputs": [
    {
     "data": {
      "text/plain": [
       "\"<START> this film was just brilliant casting location scenery story direction everyone's really suited the part they played and you could just imagine being there robert <UNK> is an amazing actor and now the same being director <UNK> father came from the same scottish island as myself so i loved the fact there was a real connection with this film the witty remarks throughout the film were great it was just brilliant so much that i bought the film as soon as it was released for <UNK> and would recommend it to everyone to watch and the fly fishing was amazing really cried at the end it was so sad and you know what they say if you cry at a film it must have been good and this definitely was also <UNK> to the two little boy's that played the <UNK> of norman and paul they were just brilliant children are often left out of the <UNK> list i think because the stars that play them all grown up are such a big profile for the whole film but these children are amazing and should be praised for what they have done don't you think the whole story was so lovely because it was true and was someone's life after all that was shared with us all\""
      ]
     },
     "execution_count": 9,
     "metadata": {},
     "output_type": "execute_result"
    }
   ],
   "source": [
    "# 现在，我们可以使用 decode_review 函数显示第一条影评的文本：\n",
    "decode_review(train_data[0])"
   ]
  },
  {
   "cell_type": "markdown",
   "metadata": {},
   "source": [
    "## 准备数据\n",
    "\n",
    "影评（整数数组）必须转换为张量，然后才能馈送到神经网络中。我们可以通过以下两种方法实现这种转换：\n",
    "\n",
    "- 对数组进行独热编码，将它们转换为由 0 和 1 构成的向量。例如，序列 [3, 5] 将变成一个 10000 维的向量，除索引 3 和 5 转换为 1 之外，其余全转换为 0。然后，将它作为网络的第一层，一个可以处理浮点向量数据的密集层。不过，这种方法会占用大量内存，需要一个大小为 num_words * num_reviews 的矩阵。\n",
    "\n",
    "- 或者，我们可以填充数组，使它们都具有相同的长度，然后创建一个形状为 max_length * num_reviews 的整数张量。我们可以使用一个能够处理这种形状的嵌入层作为网络中的第一层。\n",
    "\n",
    "在本教程中，我们将使用第二种方法。\n",
    "\n",
    "由于影评的长度必须相同，我们将使用 pad_sequences 函数将长度标准化："
   ]
  },
  {
   "cell_type": "code",
   "execution_count": 11,
   "metadata": {},
   "outputs": [],
   "source": [
    "train_data = keras.preprocessing.sequence.pad_sequences(train_data,\n",
    "                                                       value=word_index[\"<PAD>\"],\n",
    "                                                       padding='post',\n",
    "                                                       maxlen=256)\n",
    "test_data = keras.preprocessing.sequence.pad_sequences(test_data,\n",
    "                                                      value=word_index[\"<PAD>\"],\n",
    "                                                      padding='post',\n",
    "                                                      maxlen=256)"
   ]
  },
  {
   "cell_type": "code",
   "execution_count": 12,
   "metadata": {},
   "outputs": [
    {
     "data": {
      "text/plain": [
       "(256, 256)"
      ]
     },
     "execution_count": 12,
     "metadata": {},
     "output_type": "execute_result"
    }
   ],
   "source": [
    "# 现在，我们来看看样本的长度：\n",
    "len(train_data[0]),len(train_data[1])"
   ]
  },
  {
   "cell_type": "code",
   "execution_count": 13,
   "metadata": {},
   "outputs": [
    {
     "name": "stdout",
     "output_type": "stream",
     "text": [
      "[   1   14   22   16   43  530  973 1622 1385   65  458 4468   66 3941\n",
      "    4  173   36  256    5   25  100   43  838  112   50  670    2    9\n",
      "   35  480  284    5  150    4  172  112  167    2  336  385   39    4\n",
      "  172 4536 1111   17  546   38   13  447    4  192   50   16    6  147\n",
      " 2025   19   14   22    4 1920 4613  469    4   22   71   87   12   16\n",
      "   43  530   38   76   15   13 1247    4   22   17  515   17   12   16\n",
      "  626   18    2    5   62  386   12    8  316    8  106    5    4 2223\n",
      " 5244   16  480   66 3785   33    4  130   12   16   38  619    5   25\n",
      "  124   51   36  135   48   25 1415   33    6   22   12  215   28   77\n",
      "   52    5   14  407   16   82    2    8    4  107  117 5952   15  256\n",
      "    4    2    7 3766    5  723   36   71   43  530  476   26  400  317\n",
      "   46    7    4    2 1029   13  104   88    4  381   15  297   98   32\n",
      " 2071   56   26  141    6  194 7486   18    4  226   22   21  134  476\n",
      "   26  480    5  144   30 5535   18   51   36   28  224   92   25  104\n",
      "    4  226   65   16   38 1334   88   12   16  283    5   16 4472  113\n",
      "  103   32   15   16 5345   19  178   32    0    0    0    0    0    0\n",
      "    0    0    0    0    0    0    0    0    0    0    0    0    0    0\n",
      "    0    0    0    0    0    0    0    0    0    0    0    0    0    0\n",
      "    0    0    0    0]\n"
     ]
    }
   ],
   "source": [
    "# 并检查（现已填充的）第一条影评：\n",
    "print(train_data[0])"
   ]
  },
  {
   "cell_type": "markdown",
   "metadata": {},
   "source": [
    "## 构建模型\n",
    "\n",
    "神经网络通过堆叠层创建而成，这需要做出两个架构方面的主要决策：\n",
    "\n",
    "- 要在模型中使用多少个层？\n",
    "- 要针对每个层使用多少个隐藏单元？\n",
    "\n",
    "在本示例中，输入数据由字词-索引数组构成。要预测的标签是 0 或 1。接下来，我们为此问题构建一个模型："
   ]
  },
  {
   "cell_type": "code",
   "execution_count": 14,
   "metadata": {},
   "outputs": [
    {
     "name": "stdout",
     "output_type": "stream",
     "text": [
      "_________________________________________________________________\n",
      "Layer (type)                 Output Shape              Param #   \n",
      "=================================================================\n",
      "embedding (Embedding)        (None, None, 16)          160000    \n",
      "_________________________________________________________________\n",
      "global_average_pooling1d (Gl (None, 16)                0         \n",
      "_________________________________________________________________\n",
      "dense (Dense)                (None, 16)                272       \n",
      "_________________________________________________________________\n",
      "dense_1 (Dense)              (None, 1)                 17        \n",
      "=================================================================\n",
      "Total params: 160,289\n",
      "Trainable params: 160,289\n",
      "Non-trainable params: 0\n",
      "_________________________________________________________________\n"
     ]
    }
   ],
   "source": [
    "# input shape is the vocabulary count used for the movie reviews (10,000 words)\n",
    "vocab_size = 10000\n",
    "\n",
    "model = keras.Sequential()\n",
    "model.add(keras.layers.Embedding(vocab_size,16))\n",
    "model.add(keras.layers.GlobalAveragePooling1D())\n",
    "model.add(keras.layers.Dense(16,activation=tf.nn.relu))\n",
    "model.add(keras.layers.Dense(1,activation=tf.nn.sigmoid))\n",
    "\n",
    "model.summary()"
   ]
  },
  {
   "cell_type": "markdown",
   "metadata": {},
   "source": [
    "按顺序堆叠各个层以构建分类器：\n",
    "\n",
    "1. 第一层是 Embedding 层。该层会在整数编码的词汇表中查找每个字词-索引的嵌入向量。模型在接受训练时会学习这些向量。这些向量会向输出数组添加一个维度。生成的维度为：(batch, sequence, embedding)。\n",
    "2. 接下来，一个 GlobalAveragePooling1D 层通过对序列维度求平均值，针对每个样本返回一个长度固定的输出向量。这样，模型便能够以尽可能简单的方式处理各种长度的输入。\n",
    "3. 该长度固定的输出向量会传入一个全连接 (Dense) 层（包含 16 个隐藏单元）。\n",
    "4. 最后一层与单个输出节点密集连接。应用 sigmoid 激活函数后，结果是介于 0 到 1 之间的浮点值，表示概率或置信水平。\n",
    "\n",
    "### 隐藏单元\n",
    "\n",
    "上述模型在输入和输出之间有两个中间层（也称为“隐藏”层）。输出（单元、节点或神经元）的数量是相应层的表示法空间的维度。换句话说，该数值表示学习内部表示法时网络所允许的自由度。\n",
    "\n",
    "如果模型具有更多隐藏单元（更高维度的表示空间）和/或更多层，则说明网络可以学习更复杂的表示法。不过，这会使网络耗费更多计算资源，并且可能导致学习不必要的模式（可以优化在训练数据上的表现，但不会优化在测试数据上的表现）。这称为过拟合，我们稍后会加以探讨。\n",
    "\n",
    "### 损失函数和优化器\n",
    "\n",
    "模型在训练时需要一个损失函数和一个优化器。由于这是一个二元分类问题且模型会输出一个概率（应用 S 型激活函数的单个单元层），因此我们将使用 binary_crossentropy 损失函数。\n",
    "\n",
    "该函数并不是唯一的损失函数，例如，您可以选择 mean_squared_error。但一般来说，binary_crossentropy 更适合处理概率问题，它可测量概率分布之间的“差距”，在本例中则为实际分布和预测之间的“差距”。\n",
    "\n",
    "稍后，在探索回归问题（比如预测房价）时，我们将了解如何使用另一个称为均方误差的损失函数。\n",
    "\n",
    "现在，配置模型以使用优化器和损失函数："
   ]
  },
  {
   "cell_type": "code",
   "execution_count": 15,
   "metadata": {},
   "outputs": [],
   "source": [
    "model.compile(optimizer=tf.train.AdamOptimizer(),\n",
    "             loss='binary_crossentropy',\n",
    "             metrics=['accuracy'])"
   ]
  },
  {
   "cell_type": "markdown",
   "metadata": {},
   "source": [
    "## 创建验证集\n",
    "\n",
    "在训练时，我们需要检查模型处理从未见过的数据的准确率。我们从原始训练数据中分离出 10000 个样本，创建一个验证集。（为什么现在不使用测试集？我们的目标是仅使用训练数据开发和调整模型，然后仅使用一次测试数据评估准确率。）\n",
    "\n"
   ]
  },
  {
   "cell_type": "code",
   "execution_count": 18,
   "metadata": {},
   "outputs": [],
   "source": [
    "x_val = train_data[:10000]\n",
    "partial_x_train = train_data[10000:]\n",
    "\n",
    "y_val = train_labels[:10000]\n",
    "partial_y_train  = train_labels[10000:]"
   ]
  },
  {
   "cell_type": "markdown",
   "metadata": {},
   "source": [
    "## 训练模型\n",
    "\n",
    "用有 512 个样本的小批次训练模型 40 个周期。这将对 x_train 和 y_train 张量中的所有样本进行 40 次迭代。在训练期间，监控模型在验证集的 10000 个样本上的损失和准确率："
   ]
  },
  {
   "cell_type": "code",
   "execution_count": 19,
   "metadata": {},
   "outputs": [
    {
     "name": "stdout",
     "output_type": "stream",
     "text": [
      "Train on 15000 samples, validate on 10000 samples\n",
      "Epoch 1/40\n",
      "15000/15000 [==============================] - 1s 78us/step - loss: 0.6920 - acc: 0.5418 - val_loss: 0.6900 - val_acc: 0.5733\n",
      "Epoch 2/40\n",
      "15000/15000 [==============================] - 1s 54us/step - loss: 0.6865 - acc: 0.6305 - val_loss: 0.6821 - val_acc: 0.6001\n",
      "Epoch 3/40\n",
      "15000/15000 [==============================] - 1s 57us/step - loss: 0.6746 - acc: 0.6723 - val_loss: 0.6669 - val_acc: 0.6771\n",
      "Epoch 4/40\n",
      "15000/15000 [==============================] - 1s 54us/step - loss: 0.6534 - acc: 0.6985 - val_loss: 0.6424 - val_acc: 0.7452\n",
      "Epoch 5/40\n",
      "15000/15000 [==============================] - 1s 55us/step - loss: 0.6218 - acc: 0.7647 - val_loss: 0.6090 - val_acc: 0.7570\n",
      "Epoch 6/40\n",
      "15000/15000 [==============================] - 1s 53us/step - loss: 0.5825 - acc: 0.7937 - val_loss: 0.5709 - val_acc: 0.7777\n",
      "Epoch 7/40\n",
      "15000/15000 [==============================] - 1s 54us/step - loss: 0.5386 - acc: 0.8291 - val_loss: 0.5303 - val_acc: 0.8178\n",
      "Epoch 8/40\n",
      "15000/15000 [==============================] - 1s 53us/step - loss: 0.4941 - acc: 0.8513 - val_loss: 0.4910 - val_acc: 0.8402\n",
      "Epoch 9/40\n",
      "15000/15000 [==============================] - 1s 54us/step - loss: 0.4522 - acc: 0.8652 - val_loss: 0.4555 - val_acc: 0.8521\n",
      "Epoch 10/40\n",
      "15000/15000 [==============================] - 1s 53us/step - loss: 0.4135 - acc: 0.8793 - val_loss: 0.4245 - val_acc: 0.8574\n",
      "Epoch 11/40\n",
      "15000/15000 [==============================] - 1s 52us/step - loss: 0.3796 - acc: 0.8877 - val_loss: 0.3999 - val_acc: 0.8635\n",
      "Epoch 12/40\n",
      "15000/15000 [==============================] - 1s 52us/step - loss: 0.3507 - acc: 0.8951 - val_loss: 0.3759 - val_acc: 0.8686\n",
      "Epoch 13/40\n",
      "15000/15000 [==============================] - 1s 52us/step - loss: 0.3238 - acc: 0.9009 - val_loss: 0.3579 - val_acc: 0.8722\n",
      "Epoch 14/40\n",
      "15000/15000 [==============================] - 1s 53us/step - loss: 0.3012 - acc: 0.9056 - val_loss: 0.3426 - val_acc: 0.8761\n",
      "Epoch 15/40\n",
      "15000/15000 [==============================] - 1s 53us/step - loss: 0.2815 - acc: 0.9105 - val_loss: 0.3305 - val_acc: 0.8771\n",
      "Epoch 16/40\n",
      "15000/15000 [==============================] - 1s 52us/step - loss: 0.2647 - acc: 0.9153 - val_loss: 0.3201 - val_acc: 0.8791\n",
      "Epoch 17/40\n",
      "15000/15000 [==============================] - 1s 52us/step - loss: 0.2488 - acc: 0.9201 - val_loss: 0.3116 - val_acc: 0.8808\n",
      "Epoch 18/40\n",
      "15000/15000 [==============================] - 1s 51us/step - loss: 0.2348 - acc: 0.9250 - val_loss: 0.3048 - val_acc: 0.8813\n",
      "Epoch 19/40\n",
      "15000/15000 [==============================] - 1s 53us/step - loss: 0.2221 - acc: 0.9291 - val_loss: 0.2998 - val_acc: 0.8825\n",
      "Epoch 20/40\n",
      "15000/15000 [==============================] - 1s 53us/step - loss: 0.2110 - acc: 0.9321 - val_loss: 0.2947 - val_acc: 0.8833\n",
      "Epoch 21/40\n",
      "15000/15000 [==============================] - 1s 52us/step - loss: 0.2005 - acc: 0.9363 - val_loss: 0.2913 - val_acc: 0.8832\n",
      "Epoch 22/40\n",
      "15000/15000 [==============================] - 1s 52us/step - loss: 0.1908 - acc: 0.9394 - val_loss: 0.2889 - val_acc: 0.8839\n",
      "Epoch 23/40\n",
      "15000/15000 [==============================] - 1s 51us/step - loss: 0.1820 - acc: 0.9427 - val_loss: 0.2869 - val_acc: 0.8844\n",
      "Epoch 24/40\n",
      "15000/15000 [==============================] - 1s 52us/step - loss: 0.1734 - acc: 0.9475 - val_loss: 0.2850 - val_acc: 0.8861\n",
      "Epoch 25/40\n",
      "15000/15000 [==============================] - 1s 53us/step - loss: 0.1659 - acc: 0.9507 - val_loss: 0.2841 - val_acc: 0.8856\n",
      "Epoch 26/40\n",
      "15000/15000 [==============================] - 1s 52us/step - loss: 0.1584 - acc: 0.9536 - val_loss: 0.2836 - val_acc: 0.8843\n",
      "Epoch 27/40\n",
      "15000/15000 [==============================] - 1s 53us/step - loss: 0.1521 - acc: 0.9541 - val_loss: 0.2844 - val_acc: 0.8832\n",
      "Epoch 28/40\n",
      "15000/15000 [==============================] - 1s 55us/step - loss: 0.1457 - acc: 0.9580 - val_loss: 0.2835 - val_acc: 0.8857\n",
      "Epoch 29/40\n",
      "15000/15000 [==============================] - 1s 52us/step - loss: 0.1397 - acc: 0.9593 - val_loss: 0.2842 - val_acc: 0.8864\n",
      "Epoch 30/40\n",
      "15000/15000 [==============================] - 1s 54us/step - loss: 0.1347 - acc: 0.9619 - val_loss: 0.2859 - val_acc: 0.8864\n",
      "Epoch 31/40\n",
      "15000/15000 [==============================] - 1s 53us/step - loss: 0.1285 - acc: 0.9639 - val_loss: 0.2867 - val_acc: 0.8865\n",
      "Epoch 32/40\n",
      "15000/15000 [==============================] - 1s 53us/step - loss: 0.1236 - acc: 0.9661 - val_loss: 0.2887 - val_acc: 0.8864\n",
      "Epoch 33/40\n",
      "15000/15000 [==============================] - 1s 52us/step - loss: 0.1184 - acc: 0.9679 - val_loss: 0.2903 - val_acc: 0.8864\n",
      "Epoch 34/40\n",
      "15000/15000 [==============================] - 1s 52us/step - loss: 0.1140 - acc: 0.9692 - val_loss: 0.2939 - val_acc: 0.8851\n",
      "Epoch 35/40\n",
      "15000/15000 [==============================] - 1s 52us/step - loss: 0.1101 - acc: 0.9703 - val_loss: 0.2950 - val_acc: 0.8856\n",
      "Epoch 36/40\n",
      "15000/15000 [==============================] - 1s 51us/step - loss: 0.1053 - acc: 0.9732 - val_loss: 0.2974 - val_acc: 0.8858\n",
      "Epoch 37/40\n",
      "15000/15000 [==============================] - 1s 53us/step - loss: 0.1014 - acc: 0.9744 - val_loss: 0.3004 - val_acc: 0.8850\n",
      "Epoch 38/40\n",
      "15000/15000 [==============================] - 1s 53us/step - loss: 0.0980 - acc: 0.9754 - val_loss: 0.3046 - val_acc: 0.8830\n",
      "Epoch 39/40\n",
      "15000/15000 [==============================] - 1s 53us/step - loss: 0.0940 - acc: 0.9773 - val_loss: 0.3058 - val_acc: 0.8843\n",
      "Epoch 40/40\n",
      "15000/15000 [==============================] - 1s 53us/step - loss: 0.0904 - acc: 0.9785 - val_loss: 0.3091 - val_acc: 0.8831\n"
     ]
    }
   ],
   "source": [
    "history = model.fit(partial_x_train,\n",
    "                    partial_y_train,\n",
    "                    epochs=40,\n",
    "                    batch_size=512,\n",
    "                    validation_data=(x_val, y_val),\n",
    "                    verbose=1)\n",
    "                    "
   ]
  },
  {
   "cell_type": "markdown",
   "metadata": {},
   "source": [
    "## 评估模型\n",
    "\n",
    "我们来看看模型的表现如何。模型会返回两个值：损失（表示误差的数字，越低越好）和准确率。"
   ]
  },
  {
   "cell_type": "code",
   "execution_count": 20,
   "metadata": {},
   "outputs": [
    {
     "name": "stdout",
     "output_type": "stream",
     "text": [
      "25000/25000 [==============================] - 0s 15us/step\n",
      "[0.33097954327106477, 0.8726]\n"
     ]
    }
   ],
   "source": [
    "results = model.evaluate(test_data,test_labels)\n",
    "print(results)"
   ]
  },
  {
   "cell_type": "markdown",
   "metadata": {},
   "source": [
    "使用这种相当简单的方法可实现约 87% 的准确率。如果采用更高级的方法，模型的准确率应该会接近 95%。\n",
    "\n",
    "## 创建准确率和损失随时间变化的图\n",
    "\n",
    "model.fit() 返回一个 History 对象，该对象包含一个字典，其中包括训练期间发生的所有情况：\n"
   ]
  },
  {
   "cell_type": "code",
   "execution_count": 21,
   "metadata": {},
   "outputs": [
    {
     "data": {
      "text/plain": [
       "dict_keys(['val_loss', 'val_acc', 'acc', 'loss'])"
      ]
     },
     "execution_count": 21,
     "metadata": {},
     "output_type": "execute_result"
    }
   ],
   "source": [
    "history_dict = history.history\n",
    "history_dict.keys()"
   ]
  },
  {
   "cell_type": "markdown",
   "metadata": {},
   "source": [
    "一共有 4 个条目：每个条目对应训练和验证期间的一个受监控指标。我们可以使用这些指标绘制训练损失与验证损失图表以进行对比，并绘制训练准确率与验证准确率图表："
   ]
  },
  {
   "cell_type": "code",
   "execution_count": 23,
   "metadata": {},
   "outputs": [
    {
     "data": {
      "image/png": "[encoded data removed]",
      "text/plain": [
       "<Figure size 432x288 with 1 Axes>"
      ]
     },
     "metadata": {
      "needs_background": "light"
     },
     "output_type": "display_data"
    }
   ],
   "source": [
    "import matplotlib.pyplot as plt\n",
    "\n",
    "acc=history.history['acc']\n",
    "val_acc = history.history['val_acc']\n",
    "loss = history.history['loss']\n",
    "val_loss = history.history['val_loss']\n",
    "epochs = range(1,len(acc)+1)\n",
    "\n",
    "# 'bo' is for 'blue dot'\n",
    "plt.plot(epochs,loss,'bo',label = 'Training loss')\n",
    "# b is for 'solid blue blue line'\n",
    "plt.plot(epochs,val_loss,'b',label='Validation loss')\n",
    "plt.title('Training and validation loss')\n",
    "plt.xlabel('Epochs')\n",
    "plt.ylabel('Loss')\n",
    "plt.legend()\n",
    "plt.show()\n",
    "\n"
   ]
  },
  {
   "cell_type": "code",
   "execution_count": 25,
   "metadata": {},
   "outputs": [
    {
     "data": {
      "image/png": "[encoded data removed]",
      "text/plain": [
       "<Figure size 432x288 with 1 Axes>"
      ]
     },
     "metadata": {
      "needs_background": "light"
     },
     "output_type": "display_data"
    }
   ],
   "source": [
    "plt.clf()   # clear figure\n",
    "acc_values = history_dict['acc']\n",
    "val_acc_values = history_dict['val_acc']\n",
    "# 'bo' is for 'blue dot'\n",
    "plt.plot(epochs, acc, 'ro', label='Training acc')\n",
    "# b is for 'solid blue blue line'\n",
    "plt.plot(epochs, val_acc, 'b', label='Validation acc')\n",
    "plt.title('Training and validation accuracy')\n",
    "plt.xlabel('Epochs')\n",
    "plt.ylabel('Accuracy')\n",
    "plt.legend()\n",
    "\n",
    "plt.show()"
   ]
  },
  {
   "cell_type": "markdown",
   "metadata": {},
   "source": [
    "在该图表中，圆点表示训练损失和准确率，实线表示验证损失和准确率。\n",
    "\n",
    "可以注意到，训练损失随着周期数的增加而降低，训练准确率随着周期数的增加而提高。在使用梯度下降法优化模型时，这属于正常现象 - 该方法应在每次迭代时尽可能降低目标值。\n",
    "\n",
    "验证损失和准确率的变化情况并非如此，它们似乎在大约 20 个周期后达到峰值。这是一种过拟合现象：模型在训练数据上的表现要优于在从未见过的数据上的表现。在此之后，模型会过度优化和学习特定于训练数据的表示法，而无法泛化到测试数据。\n",
    "\n",
    "对于这种特殊情况，我们可以在大约 20 个周期后停止训练，防止出现过拟合。稍后，您将了解如何使用回调自动执行此操作。"
   ]
  },
  {
   "cell_type": "code",
   "execution_count": null,
   "metadata": {},
   "outputs": [],
   "source": []
  }
 ],
 "metadata": {
  "kernelspec": {
   "display_name": "Python 3",
   "language": "python",
   "name": "python3"
  },
  "language_info": {
   "codemirror_mode": {
    "name": "ipython",
    "version": 3
   },
   "file_extension": ".py",
   "mimetype": "text/x-python",
   "name": "python",
   "nbconvert_exporter": "python",
   "pygments_lexer": "ipython3",
   "version": "3.5.6"
  }
 },
 "nbformat": 4,
 "nbformat_minor": 2
}
