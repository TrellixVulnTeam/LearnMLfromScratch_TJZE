{
 "cells": [
  {
   "cell_type": "markdown",
   "metadata": {},
   "source": [
    "# 使用 Estimator 构建线性模型\n",
    "\n",
    "本教程使用 TensorFlow 中的 tf.estimator API 来解决基准二元分类问题。Estimator 是可扩展性最强且面向生产的 TensorFlow 模型类型。如需了解详情，请参阅 [Estimator 指南](https://www.tensorflow.org/guide/estimators)。\n",
    "\n",
    "## 概述\n",
    "\n",
    "我们会使用包含个人年龄、受教育程度、婚姻状况和职业（即特征）数据在内的普查数据，尝试预测个人年收入是否超过 5 万美元（即目标标签）。我们会训练一个逻辑回归模型，若给出某个人的信息，该模型会输出一个介于 0 到 1 之间的值，可将该值解读为个人年收入超过 5 万美元的概率。\n",
    "\n",
    "- 要点：作为建模者兼开发者，需要考虑如何使用这些数据，以及模型预测可能会带来哪些潜在益处和危害。类似这样的模型可能会加深社会偏见，扩大社会差异。每个特征是否与您要解决的问题相关，或者是否会引入偏见？要了解详情，请参阅机器学习公平性。\n",
    "\n",
    "## 设置\n",
    "\n",
    "导入 TensorFlow、特征列支持和支持模块：\n"
   ]
  },
  {
   "cell_type": "code",
   "execution_count": 3,
   "metadata": {},
   "outputs": [],
   "source": [
    "import tensorflow as tf\n",
    "import tensorflow.feature_column as fc\n",
    "\n",
    "import os\n",
    "import sys\n",
    "\n",
    "import matplotlib.pyplot as plt\n",
    "from IPython.display import clear_output\n"
   ]
  },
  {
   "cell_type": "markdown",
   "metadata": {},
   "source": [
    "然后启用 Eager Execution，以在此程序运行时检查此程序："
   ]
  },
  {
   "cell_type": "code",
   "execution_count": 4,
   "metadata": {},
   "outputs": [],
   "source": [
    "tf.enable_eager_execution()"
   ]
  },
  {
   "cell_type": "markdown",
   "metadata": {},
   "source": [
    "## 下载官方实现\n",
    "\n",
    "我们将使用 TensorFlow [模型代码库](https://github.com/tensorflow/models/)中提供的[宽度模型和深度模型](https://github.com/tensorflow/models/tree/master/official/wide_deep/)。下载代码、将根目录添加到 Python 路径，然后跳转到 wide_deep 目录："
   ]
  },
  {
   "cell_type": "code",
   "execution_count": 5,
   "metadata": {},
   "outputs": [
    {
     "name": "stderr",
     "output_type": "stream",
     "text": [
      "mkl-random 1.0.1 requires cython, which is not installed.\n",
      "twisted 18.7.0 requires PyHamcrest>=1.9.0, which is not installed.\n",
      "You are using pip version 10.0.1, however version 18.1 is available.\n",
      "You should consider upgrading via the 'python -m pip install --upgrade pip' command.\n",
      "fatal: destination path 'models' already exists and is not an empty directory.\n"
     ]
    }
   ],
   "source": [
    "! pip install -q requests\n",
    "! git clone --depth 1 https://github.com/tensorflow/models"
   ]
  },
  {
   "cell_type": "code",
   "execution_count": 6,
   "metadata": {},
   "outputs": [],
   "source": [
    "# 将该代码库的根目录添加到 Python 路径：\n",
    "models_path = os.path.join(os.getcwd(), 'models')\n",
    "\n",
    "sys.path.append(models_path)"
   ]
  },
  {
   "cell_type": "code",
   "execution_count": 7,
   "metadata": {},
   "outputs": [],
   "source": [
    "# 下载数据集：\n",
    "from official.wide_deep import census_dataset\n",
    "from official.wide_deep import census_main\n",
    "\n",
    "census_dataset.download(\"/tmp/census_data/\")"
   ]
  },
  {
   "cell_type": "markdown",
   "metadata": {},
   "source": [
    "### 命令行用法\n",
    "\n",
    "该代码库包含一个完整的程序，可用于对此类模型进行实验。\n",
    "\n",
    "要从命令行执行教程代码，先将 tensorflow/models 路径添加到您的 PYTHONPATH。"
   ]
  },
  {
   "cell_type": "code",
   "execution_count": 8,
   "metadata": {},
   "outputs": [],
   "source": [
    "#export PYTHONPATH = ${PYTHONPATH}:\"$(pwd)/models\"\n",
    "#running from python you need to set the 'os.environ' or the \n",
    "# subprocess will not see the directory.\n",
    "\n",
    "if \"PYTHONPATH\" in os.environ:\n",
    "    os.environ['PYTHONPATH'] += os.pathsep + models_path\n",
    "else:\n",
    "    os.environ['PYTHONPATH'] = models_path"
   ]
  },
  {
   "cell_type": "markdown",
   "metadata": {},
   "source": [
    "使用 --help 查看可用的命令行选项："
   ]
  },
  {
   "cell_type": "code",
   "execution_count": 9,
   "metadata": {},
   "outputs": [
    {
     "name": "stdout",
     "output_type": "stream",
     "text": [
      "Train DNN on census income dataset.\n",
      "flags:\n"
     ]
    },
    {
     "name": "stderr",
     "output_type": "stream",
     "text": [
      "2018-11-20 09:14:24.534483: I tensorflow/core/platform/cpu_feature_guard.cc:141] Your CPU supports instructions that this TensorFlow binary was not compiled to use: AVX2\n",
      "Traceback (most recent call last):\n",
      "  File \"D:\\QQPCmgr\\anaconda\\envs\\tensorflow\\lib\\runpy.py\", line 193, in _run_module_as_main\n",
      "    \"__main__\", mod_spec)\n",
      "  File \"D:\\QQPCmgr\\anaconda\\envs\\tensorflow\\lib\\runpy.py\", line 85, in _run_code\n",
      "    exec(code, run_globals)\n",
      "  File \"C:\\Users\\Administrator\\Documents\\GitHub\\LearnMLfromScratch\\tf\\ML at production scale\\models\\official\\wide_deep\\census_main.py\", line 116, in <module>\n",
      "    absl_app.run(main)\n",
      "  File \"D:\\QQPCmgr\\anaconda\\envs\\tensorflow\\lib\\site-packages\\absl\\app.py\", line 294, in run\n",
      "    flags_parser,\n",
      "  File \"D:\\QQPCmgr\\anaconda\\envs\\tensorflow\\lib\\site-packages\\absl\\app.py\", line 351, in _run_init\n",
      "    flags_parser=flags_parser,\n",
      "  File \"D:\\QQPCmgr\\anaconda\\envs\\tensorflow\\lib\\site-packages\\absl\\app.py\", line 213, in _register_and_parse_flags_with_usage\n",
      "    args_to_main = flags_parser(original_argv)\n",
      "  File \"D:\\QQPCmgr\\anaconda\\envs\\tensorflow\\lib\\site-packages\\absl\\app.py\", line 159, in parse_flags_with_usage\n",
      "    return FLAGS(args)\n",
      "  File \"D:\\QQPCmgr\\anaconda\\envs\\tensorflow\\lib\\site-packages\\absl\\flags\\_flagvalues.py\", line 625, in __call__\n",
      "    unknown_flags, unparsed_args = self._parse_args(args, known_only)\n",
      "  File \"D:\\QQPCmgr\\anaconda\\envs\\tensorflow\\lib\\site-packages\\absl\\flags\\_flagvalues.py\", line 761, in _parse_args\n",
      "    flag.parse(value)\n",
      "  File \"D:\\QQPCmgr\\anaconda\\envs\\tensorflow\\lib\\site-packages\\absl\\app.py\", line 107, in parse\n",
      "    usage(shorthelp=True, writeto_stdout=True)\n",
      "  File \"D:\\QQPCmgr\\anaconda\\envs\\tensorflow\\lib\\site-packages\\absl\\app.py\", line 405, in usage\n",
      "    stdfile.write(flag_str)\n",
      "UnicodeEncodeError: 'gbk' codec can't encode character '\\ufeff' in position 1158: illegal multibyte sequence\n"
     ]
    }
   ],
   "source": [
    "!python -m official.wide_deep.census_main --help"
   ]
  },
  {
   "cell_type": "code",
   "execution_count": null,
   "metadata": {},
   "outputs": [],
   "source": []
  }
 ],
 "metadata": {
  "kernelspec": {
   "display_name": "Python 3",
   "language": "python",
   "name": "python3"
  },
  "language_info": {
   "codemirror_mode": {
    "name": "ipython",
    "version": 3
   },
   "file_extension": ".py",
   "mimetype": "text/x-python",
   "name": "python",
   "nbconvert_exporter": "python",
   "pygments_lexer": "ipython3",
   "version": "3.5.6"
  }
 },
 "nbformat": 4,
 "nbformat_minor": 2
}
