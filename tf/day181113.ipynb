{
 "cells": [
  {
   "cell_type": "code",
   "execution_count": null,
   "metadata": {},
   "outputs": [
    {
     "name": "stdout",
     "output_type": "stream",
     "text": [
      "Epoch 1/150\n",
      "60000/60000 [==============================] - 13s 213us/step - loss: 0.2055 - acc: 0.9403\n",
      "Epoch 2/150\n",
      "60000/60000 [==============================] - 13s 221us/step - loss: 0.0813 - acc: 0.9756\n",
      "Epoch 3/150\n",
      "60000/60000 [==============================] - 13s 220us/step - loss: 0.0545 - acc: 0.9825\n",
      "Epoch 4/150\n",
      "60000/60000 [==============================] - 14s 229us/step - loss: 0.0375 - acc: 0.98811\n",
      "Epoch 5/150\n",
      "60000/60000 [==============================] - 14s 237us/step - loss: 0.0274 - acc: 0.9907\n",
      "Epoch 6/150\n",
      "60000/60000 [==============================] - 14s 230us/step - loss: 0.0206 - acc: 0.9934\n",
      "Epoch 7/150\n",
      "60000/60000 [==============================] - 14s 227us/step - loss: 0.0174 - acc: 0.9944\n",
      "Epoch 8/150\n",
      "60000/60000 [==============================] - 14s 231us/step - loss: 0.0160 - acc: 0.9950\n",
      "Epoch 9/150\n",
      "60000/60000 [==============================] - 14s 235us/step - loss: 0.0135 - acc: 0.9954\n",
      "Epoch 10/150\n",
      "60000/60000 [==============================] - 14s 231us/step - loss: 0.0104 - acc: 0.9964\n",
      "Epoch 11/150\n",
      "60000/60000 [==============================] - 14s 229us/step - loss: 0.0096 - acc: 0.9969\n",
      "Epoch 12/150\n",
      "60000/60000 [==============================] - 14s 231us/step - loss: 0.0089 - acc: 0.9969\n",
      "Epoch 13/150\n",
      "60000/60000 [==============================] - 14s 229us/step - loss: 0.0094 - acc: 0.9972\n",
      "Epoch 14/150\n",
      "60000/60000 [==============================] - 14s 230us/step - loss: 0.0083 - acc: 0.99740s - loss: 0.0\n",
      "Epoch 15/150\n",
      "60000/60000 [==============================] - 14s 229us/step - loss: 0.0074 - acc: 0.9979\n",
      "Epoch 16/150\n",
      "60000/60000 [==============================] - 14s 227us/step - loss: 0.0088 - acc: 0.9970\n",
      "Epoch 17/150\n",
      "60000/60000 [==============================] - 14s 235us/step - loss: 0.0071 - acc: 0.9977\n",
      "Epoch 18/150\n",
      "60000/60000 [==============================] - 14s 231us/step - loss: 0.0059 - acc: 0.9980\n",
      "Epoch 19/150\n",
      "60000/60000 [==============================] - 14s 229us/step - loss: 0.0088 - acc: 0.9975\n",
      "Epoch 20/150\n",
      "60000/60000 [==============================] - 14s 228us/step - loss: 0.0051 - acc: 0.9983\n",
      "Epoch 21/150\n",
      "60000/60000 [==============================] - 14s 229us/step - loss: 0.0069 - acc: 0.9978\n",
      "Epoch 22/150\n",
      "60000/60000 [==============================] - 14s 228us/step - loss: 0.0070 - acc: 0.9980\n",
      "Epoch 23/150\n",
      "60000/60000 [==============================] - 14s 228us/step - loss: 0.0045 - acc: 0.9985\n",
      "Epoch 24/150\n",
      "60000/60000 [==============================] - 14s 229us/step - loss: 0.0053 - acc: 0.9982\n",
      "Epoch 25/150\n",
      "60000/60000 [==============================] - 14s 229us/step - loss: 0.0059 - acc: 0.9981\n",
      "Epoch 26/150\n",
      "28768/60000 [=============>................] - ETA: 7s - loss: 0.0054 - acc: 0.9981"
     ]
    }
   ],
   "source": [
    "import tensorflow as tf\n",
    "mnist = tf.keras.datasets.mnist\n",
    "\n",
    "(x_train,y_train),(x_test,y_test) = mnist.load_data()\n",
    "x_train,x_test = x_train / 255.0, x_test/255.0\n",
    "\n",
    "model = tf.keras.models.Sequential([\n",
    "    tf.keras.layers.Flatten(),\n",
    "    tf.keras.layers.Dense(512,activation=tf.nn.relu),\n",
    "    tf.keras.layers.Dropout(0.2),\n",
    "    tf.keras.layers.Dense(10,activation=tf.nn.softmax)\n",
    "])\n",
    "model.compile(optimizer='adam',\n",
    "             loss='sparse_categorical_crossentropy',\n",
    "             metrics=['accuracy'])\n",
    "\n",
    "model.fit(x_train,y_train,epochs=150)\n",
    "model.evaluate(x_test,y_test)"
   ]
  },
  {
   "cell_type": "code",
   "execution_count": null,
   "metadata": {},
   "outputs": [],
   "source": [
    "tf.m"
   ]
  }
 ],
 "metadata": {
  "kernelspec": {
   "display_name": "Python 3",
   "language": "python",
   "name": "python3"
  },
  "language_info": {
   "codemirror_mode": {
    "name": "ipython",
    "version": 3
   },
   "file_extension": ".py",
   "mimetype": "text/x-python",
   "name": "python",
   "nbconvert_exporter": "python",
   "pygments_lexer": "ipython3",
   "version": "3.5.6"
  }
 },
 "nbformat": 4,
 "nbformat_minor": 2
}
